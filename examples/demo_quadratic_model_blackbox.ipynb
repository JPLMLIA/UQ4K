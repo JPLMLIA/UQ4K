{
 "cells": [
  {
   "cell_type": "markdown",
   "id": "aec2952a",
   "metadata": {},
   "source": [
    "This notebook performs the quadratic regression UQ, but with the blackbox optimizer instead of the gradient-based optimizer."
   ]
  },
  {
   "cell_type": "code",
   "execution_count": 1,
   "id": "9ae97b12",
   "metadata": {},
   "outputs": [],
   "source": [
    "from functools import partial\n",
    "import os\n",
    "import sys\n",
    "\n",
    "import matplotlib.pyplot as plt\n",
    "import numpy as np\n",
    "from scipy import stats\n",
    "\n",
    "sys.path.insert(0, '../')\n",
    "\n",
    "# uq4k modules\n",
    "from uq4k.blackbox.bb_optimizer import BbOpt\n",
    "from uq4k.models.loss import MeritFunc\n",
    "from uq4k.plotting.pred_prey import plot_dyn_and_data\n",
    "from uq4k.models.predprey_model import PredPrey\n",
    "\n",
    "plt.style.use(\"seaborn-white\")"
   ]
  },
  {
   "cell_type": "markdown",
   "id": "06173697",
   "metadata": {},
   "source": [
    "# Generate Data"
   ]
  },
  {
   "cell_type": "code",
   "execution_count": 2,
   "id": "a3824ff8",
   "metadata": {},
   "outputs": [],
   "source": [
    "def model(theta, x):\n",
    "    \"\"\"\n",
    "    Creates the noise free observation at x\n",
    "    \"\"\"\n",
    "    x_vec = x ** np.array([0, 1, 2])\n",
    "    \n",
    "    return np.dot(theta, x_vec)\n",
    "\n",
    "def generate_data(\n",
    "    theta,\n",
    "    num_data,\n",
    "    noise_mean,\n",
    "    noise_var,\n",
    "    x_seed=0,\n",
    "    noise_seed=1\n",
    "):\n",
    "    \"\"\"\n",
    "    Generate data with IID gaussian noise with the quadratic model\n",
    "    defined above.\n",
    "    \n",
    "    NOTE: the bounds of the x-value data generate are hard-coded.\n",
    "    \n",
    "    Parameters:\n",
    "    -----------\n",
    "        theta      (np arr) : true parameter value\n",
    "        num_data   (int)    : number of data draws\n",
    "        noise_mean (float)  : use 0 for unbiased noise\n",
    "        noise_var  (float)  : noise variance\n",
    "        x_seed     (int)    : random seed for generating x values\n",
    "        noise_seed (int)    : random seed for noise generation\n",
    "    \n",
    "    Returns:\n",
    "    --------\n",
    "        x_s (np arr) : array of sampled x values\n",
    "        y   (np arr) : array of outputs (func + noise)\n",
    "    \n",
    "    \"\"\"\n",
    "    # random x-values\n",
    "    np.random.seed(x_seed)\n",
    "    x_s = stats.uniform(loc=0, scale=5).rvs(num_data)\n",
    "    \n",
    "    # generate noise\n",
    "    np.random.seed(noise_seed)\n",
    "    noise = stats.norm(loc=noise_mean, scale=np.sqrt(noise_var)).rvs(num_data)\n",
    "    \n",
    "    # map points according to model and add noise\n",
    "    y = np.zeros_like(x_s)\n",
    "    for i in range(num_data):\n",
    "        y[i] = model(x=x_s[i], theta=theta) + noise[i]\n",
    "        \n",
    "    return x_s, y"
   ]
  },
  {
   "cell_type": "code",
   "execution_count": 3,
   "id": "c8140345",
   "metadata": {},
   "outputs": [],
   "source": [
    "# generate data -- using values from overleaf\n",
    "THETA = np.array([1, 0.5, 1.0])\n",
    "NOISE_MEAN = 0\n",
    "SIGMA2 = 0.1\n",
    "NUM_DATA = 100\n",
    "\n",
    "# generate data\n",
    "x_s, y = generate_data(\n",
    "    theta=THETA,\n",
    "    num_data=NUM_DATA,\n",
    "    noise_mean=NOISE_MEAN,\n",
    "    noise_var=SIGMA2\n",
    ")"
   ]
  },
  {
   "cell_type": "code",
   "execution_count": 4,
   "id": "7e437c61",
   "metadata": {},
   "outputs": [
    {
     "data": {
      "image/png": "[encoded data removed]",
      "text/plain": [
       "<Figure size 900x432 with 1 Axes>"
      ]
     },
     "metadata": {},
     "output_type": "display_data"
    }
   ],
   "source": [
    "plt.figure(figsize=(12.5,6))\n",
    "plt.scatter(x_s, y)\n",
    "plt.xlabel('x')\n",
    "plt.ylabel('y')\n",
    "plt.show()"
   ]
  },
  {
   "cell_type": "markdown",
   "id": "001d1597",
   "metadata": {},
   "source": [
    "# Optimize with identity map as the QoI"
   ]
  },
  {
   "cell_type": "code",
   "execution_count": 5,
   "id": "8d69e637",
   "metadata": {},
   "outputs": [],
   "source": [
    "# define the QoI to simply be the identity map\n",
    "id_map = lambda theta: theta"
   ]
  },
  {
   "cell_type": "code",
   "execution_count": 6,
   "id": "c5a01a5d",
   "metadata": {},
   "outputs": [],
   "source": [
    "# set optimization parameters\n",
    "EPSILON = 0.0001                   # stopping criterion for odad_min_e_ball algo\n",
    "CONF_LEV = 0.95                    # 1 - beta_alpha - i.e., prob not violating\n",
    "THETA_INIT = np.array([0, 0, 0])   # starting point for MLE optimization\n",
    "MU = 1e13                          # strength of penalty\n",
    "BOUNDS = [[-5, 5]] * 3             # variable bounds for diff evol algo\n",
    "MAX_IT = 10                        # controls number of steps in ball algo"
   ]
  },
  {
   "cell_type": "code",
   "execution_count": 7,
   "id": "25b876c2",
   "metadata": {},
   "outputs": [],
   "source": [
    "def forward_model(theta, x=x_s):\n",
    "    \"\"\"\n",
    "    Forward model version of the above model() where the\n",
    "    data are assumed\n",
    "    \"\"\"\n",
    "    N = x.shape[0]\n",
    "    y = np.zeros(N)\n",
    "    for i in range(N):\n",
    "        y[i] = model(x=x[i], theta=theta)\n",
    "\n",
    "    return y"
   ]
  },
  {
   "cell_type": "code",
   "execution_count": 8,
   "id": "bf2afd69",
   "metadata": {},
   "outputs": [
    {
     "name": "stdout",
     "output_type": "stream",
     "text": [
      "----- Center and Radius -----\n",
      "[[1.07864257 0.46569232 1.00281984]\n",
      " [1.31425249 0.24387838 1.04287004]\n",
      " [0.84376395 0.6882042  0.96271226]\n",
      " [0.84459544 0.68911165 0.96213002]]\n",
      "[1.07942397 0.46649502 1.00250003]\n",
      "0.32608639725069416\n",
      "----- Dirac Weights -----\n",
      "[-1.59334575e-09  5.00000317e-01  2.43848434e-01  2.56151252e-01]\n"
     ]
    }
   ],
   "source": [
    "# create objective function and optimizer objects\n",
    "objective_obj = MeritFunc(\n",
    "    forward_model=forward_model, \n",
    "    mu=MU, \n",
    "    data=y,\n",
    "    qoi_func=id_map\n",
    ")\n",
    "optimizer = BbOpt(objective_obj=objective_obj)\n",
    "\n",
    "# perform the optimization\n",
    "mle_theta, M_alpha, S, center, radius_0 = optimizer.optimize_min_e_ball(\n",
    "    sigma_2=SIGMA2,\n",
    "    data=y,\n",
    "    theta_init=THETA_INIT,\n",
    "    epsilon_0=EPSILON,\n",
    "    conf_lev=CONF_LEV,\n",
    "    man_delta=None,\n",
    "    bounds=BOUNDS,\n",
    "    max_iter=MAX_IT,\n",
    ")\n",
    "\n",
    "print(\"----- Center and Radius -----\")\n",
    "print(S)\n",
    "print(center)\n",
    "print(radius_0)\n",
    "\n",
    "# perform optimization to find dirac weights\n",
    "p_opt = optimizer.weight_optimization(S=S)\n",
    "print(\"----- Dirac Weights -----\")\n",
    "print(p_opt)"
   ]
  },
  {
   "cell_type": "markdown",
   "id": "b6ca1126",
   "metadata": {},
   "source": [
    "# Optimize with a 1d Projection"
   ]
  },
  {
   "cell_type": "code",
   "execution_count": 9,
   "id": "115966e2",
   "metadata": {},
   "outputs": [],
   "source": [
    "# define a projection for the QoI\n",
    "proj_func = lambda theta: theta[0]"
   ]
  },
  {
   "cell_type": "code",
   "execution_count": 10,
   "id": "6bc39337",
   "metadata": {},
   "outputs": [],
   "source": [
    "# set optimization parameters\n",
    "EPSILON = 0.0001                   # stopping criterion for odad_min_e_ball algo\n",
    "CONF_LEV = 0.95                    # 1 - beta_alpha - i.e., prob not violating\n",
    "THETA_INIT = np.array([0, 0, 0])   # starting point for MLE optimization\n",
    "MU = 1e13                          # strength of penalty\n",
    "BOUNDS = [[-5, 5]] * 3             # variable bounds for diff evol algo\n",
    "MAX_IT = 10                        # controls number of steps in ball algo"
   ]
  },
  {
   "cell_type": "code",
   "execution_count": 11,
   "id": "dc61164c",
   "metadata": {},
   "outputs": [
    {
     "name": "stdout",
     "output_type": "stream",
     "text": [
      "----- Center and Radius -----\n",
      "[1.07864257 0.8355618  1.32184116 0.83543784]\n",
      "1.0786394959291639\n",
      "0.24320165976535024\n",
      "----- Dirac Weights -----\n",
      "[7.60610235e-10 2.35648031e-01 5.00003597e-01 2.64348372e-01]\n"
     ]
    }
   ],
   "source": [
    "# create objective function and optimizer objects\n",
    "objective_obj = MeritFunc(\n",
    "    forward_model=forward_model, \n",
    "    mu=MU, \n",
    "    data=y,\n",
    "    qoi_func=proj_func\n",
    ")\n",
    "optimizer = BbOpt(objective_obj=objective_obj)\n",
    "\n",
    "# perform the optimization\n",
    "mle_theta, M_alpha, S, center, radius_0 = optimizer.optimize_min_e_ball(\n",
    "    sigma_2=SIGMA2,\n",
    "    data=y,\n",
    "    theta_init=THETA_INIT,\n",
    "    epsilon_0=EPSILON,\n",
    "    conf_lev=CONF_LEV,\n",
    "    man_delta=None,\n",
    "    bounds=BOUNDS,\n",
    "    max_iter=MAX_IT,\n",
    ")\n",
    "\n",
    "print(\"----- Center and Radius -----\")\n",
    "print(S)\n",
    "print(center)\n",
    "print(radius_0)\n",
    "\n",
    "# perform optimization to find dirac weights\n",
    "p_opt = optimizer.weight_optimization(S=S)\n",
    "print(\"----- Dirac Weights -----\")\n",
    "print(p_opt)"
   ]
  },
  {
   "cell_type": "code",
   "execution_count": null,
   "id": "54578d83",
   "metadata": {},
   "outputs": [],
   "source": []
  }
 ],
 "metadata": {
  "kernelspec": {
   "display_name": "Python 3 (ipykernel)",
   "language": "python",
   "name": "python3"
  },
  "language_info": {
   "codemirror_mode": {
    "name": "ipython",
    "version": 3
   },
   "file_extension": ".py",
   "mimetype": "text/x-python",
   "name": "python",
   "nbconvert_exporter": "python",
   "pygments_lexer": "ipython3",
   "version": "3.9.6"
  }
 },
 "nbformat": 4,
 "nbformat_minor": 5
}
