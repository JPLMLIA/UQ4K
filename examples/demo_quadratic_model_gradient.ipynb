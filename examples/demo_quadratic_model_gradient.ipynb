{
 "cells": [
  {
   "cell_type": "code",
   "execution_count": 1,
   "metadata": {},
   "outputs": [],
   "source": [
    "from functools import partial\n",
    "import os\n",
    "import sys\n",
    "\n",
    "import matplotlib.pyplot as plt\n",
    "import numpy as np\n",
    "import jax\n",
    "import jax.numpy as jnp\n",
    "from scipy import stats\n",
    "\n",
    "sys.path.insert(0, '../')\n",
    "\n",
    "# uq4k modules\n",
    "from uq4k.gradient.gd_optimizer import GdOpt\n",
    "from uq4k.models.loss import DifferentaibleMeritFunc\n",
    "\n",
    "plt.style.use(\"seaborn-white\")"
   ]
  },
  {
   "cell_type": "markdown",
   "metadata": {},
   "source": [
    "# Generate Data"
   ]
  },
  {
   "cell_type": "code",
   "execution_count": 2,
   "metadata": {},
   "outputs": [],
   "source": [
    "def model(theta, x):\n",
    "    \"\"\"\n",
    "    Creates the noise free observation at x\n",
    "    \"\"\"\n",
    "    x_powers = x ** jnp.array([0, 1, 2])\n",
    "    return jnp.dot(theta, x_powers)\n",
    "\n",
    "def generate_data(\n",
    "    theta,\n",
    "    num_data,\n",
    "    noise_mean,\n",
    "    noise_var,\n",
    "    x_seed=0,\n",
    "    noise_seed=1\n",
    "):\n",
    "    \"\"\"\n",
    "    Generate data with IID gaussian noise with the quadratic model\n",
    "    defined above.\n",
    "    \n",
    "    NOTE: the bounds of the x-value data generate are hard-coded.\n",
    "    \n",
    "    Parameters:\n",
    "    -----------\n",
    "        theta      (np arr) : true parameter value\n",
    "        num_data   (int)    : number of data draws\n",
    "        noise_mean (float)  : use 0 for unbiased noise\n",
    "        noise_var  (float)  : noise variance\n",
    "        x_seed     (int)    : random seed for generating x values\n",
    "        noise_seed (int)    : random seed for noise generation\n",
    "    \n",
    "    Returns:\n",
    "    --------\n",
    "        x_s (np arr) : array of sampled x values\n",
    "        y   (np arr) : array of outputs (func + noise)\n",
    "    \n",
    "    \"\"\"\n",
    "    # random x-values\n",
    "    np.random.seed(x_seed)\n",
    "    x_s = stats.uniform(loc=0, scale=5).rvs(num_data)\n",
    "    \n",
    "    # generate noise\n",
    "    np.random.seed(noise_seed)\n",
    "    noise = stats.norm(loc=noise_mean, scale=np.sqrt(noise_var)).rvs(num_data)\n",
    "    \n",
    "    # map points according to model and add noise\n",
    "    y = np.zeros_like(x_s)\n",
    "    for i in range(num_data):\n",
    "        y[i] = model(x=x_s[i], theta=theta) + noise[i]\n",
    "        \n",
    "    return x_s, y"
   ]
  },
  {
   "cell_type": "code",
   "execution_count": 3,
   "metadata": {},
   "outputs": [
    {
     "name": "stderr",
     "output_type": "stream",
     "text": [
      "WARNING:absl:No GPU/TPU found, falling back to CPU. (Set TF_CPP_MIN_LOG_LEVEL=0 and rerun for more info.)\n"
     ]
    }
   ],
   "source": [
    "# generate data -- using values from overleaf\n",
    "THETA = np.array([1, 0.5, 1.0])\n",
    "NOISE_MEAN = 0\n",
    "SIGMA2 = 0.1\n",
    "NUM_DATA = 100\n",
    "\n",
    "# generate data\n",
    "x_s, y = generate_data(\n",
    "    theta=THETA,\n",
    "    num_data=NUM_DATA,\n",
    "    noise_mean=NOISE_MEAN,\n",
    "    noise_var=SIGMA2\n",
    ")"
   ]
  },
  {
   "cell_type": "code",
   "execution_count": 4,
   "metadata": {},
   "outputs": [
    {
     "data": {
      "image/png": "[encoded data removed]",
      "text/plain": [
       "<Figure size 900x432 with 1 Axes>"
      ]
     },
     "metadata": {},
     "output_type": "display_data"
    }
   ],
   "source": [
    "plt.figure(figsize=(12.5,6))\n",
    "plt.scatter(x_s, y)\n",
    "plt.xlabel('x')\n",
    "plt.ylabel('y')\n",
    "plt.show()"
   ]
  },
  {
   "cell_type": "markdown",
   "metadata": {},
   "source": [
    "# Optimize with identity map as the QoI"
   ]
  },
  {
   "cell_type": "code",
   "execution_count": 5,
   "metadata": {},
   "outputs": [],
   "source": [
    "# define the QoI to simply be the identity map\n",
    "id_map = lambda theta: theta"
   ]
  },
  {
   "cell_type": "code",
   "execution_count": 6,
   "metadata": {},
   "outputs": [],
   "source": [
    "# set optimization parameters\n",
    "EPSILON = 0.0001                   # stopping criterion for odad_min_e_ball algo\n",
    "CONF_LEV = 0.95                   # 1 - beta_alpha - i.e., prob not violating\n",
    "THETA_INIT = \"multisample\"   # initialization startgey\n",
    "THETA_DIMS = 3               # dimensionality of theta\n",
    "MU = 1000                          # strength of penalty\n",
    "MAX_EPOCH = 100000\n",
    "MIN_IMPROVMENT = 0.01\n",
    "PATINCE = 1000\n",
    "LR = 0.001      "
   ]
  },
  {
   "cell_type": "code",
   "execution_count": 7,
   "metadata": {},
   "outputs": [],
   "source": [
    "forward_model = lambda theta: jax.vmap(model, in_axes=[None, 0])(theta, x_s)"
   ]
  },
  {
   "cell_type": "code",
   "execution_count": 8,
   "metadata": {},
   "outputs": [
    {
     "name": "stdout",
     "output_type": "stream",
     "text": [
      "----- Center and Radius -----\n",
      "[[0.8443641  0.68920094 0.9620016 ]\n",
      " [1.3127195  0.2417546  1.0435436 ]\n",
      " [0.84484184 0.6921229  0.9615561 ]\n",
      " [1.3149512  0.2445829  1.0427178 ]]\n",
      "[1.07878065 0.46693874 1.00254983]\n",
      "0.32728542679297645\n",
      "----- Dirac Weights -----\n",
      "[9.47916070e-23 5.00000000e-01 5.00000000e-01 1.02800371e-22]\n"
     ]
    }
   ],
   "source": [
    "# create objective function and optimizer objects\n",
    "objective_obj = DifferentaibleMeritFunc(\n",
    "    forward_model=forward_model, \n",
    "    mu=MU, \n",
    "    data=y,\n",
    "    qoi_func=id_map\n",
    ")\n",
    "optimizer = GdOpt(objective=objective_obj)\n",
    "\n",
    "mle_theta, M_alpha, S, center, radius_0 = optimizer.optimize_min_e_ball(\n",
    "    sigma_2=SIGMA2,\n",
    "    data=y,\n",
    "    initial_theta=THETA_INIT,\n",
    "    theta_dims=THETA_DIMS,\n",
    "    raduis_eps=EPSILON,\n",
    "    conf_level=CONF_LEV,\n",
    "    max_epoch=MAX_EPOCH,\n",
    "    lr=LR  \n",
    ")\n",
    "\n",
    "print(\"----- Center and Radius -----\")\n",
    "print(S)\n",
    "print(center)\n",
    "print(radius_0)\n",
    "\n",
    "# perform optimization to find dirac weights\n",
    "p_opt = optimizer.weight_optimization(S=S.astype(np.float64))\n",
    "print(\"----- Dirac Weights -----\")\n",
    "print(p_opt)"
   ]
  },
  {
   "cell_type": "markdown",
   "metadata": {},
   "source": [
    "# Optimize with a 1d Projection"
   ]
  },
  {
   "cell_type": "code",
   "execution_count": 10,
   "metadata": {},
   "outputs": [],
   "source": [
    "# define a projection for the QoI\n",
    "proj_func = jax.jit(lambda theta: theta[0])"
   ]
  },
  {
   "cell_type": "code",
   "execution_count": 11,
   "metadata": {},
   "outputs": [],
   "source": [
    "# set optimization parameters\n",
    "EPSILON = 0.0001                   # stopping criterion for odad_min_e_ball algo\n",
    "CONF_LEV = 0.95                   # 1 - beta_alpha - i.e., prob not violating\n",
    "THETA_INIT = \"multisample\"   # initialization startgey\n",
    "THETA_DIMS = 3               # dimensionality of theta\n",
    "MU = 1000                          # strength of penalty\n",
    "MAX_EPOCH = 100000\n",
    "MIN_IMPROVMENT = 0.01\n",
    "PATINCE = 1000\n",
    "LR = 0.001      "
   ]
  },
  {
   "cell_type": "code",
   "execution_count": 12,
   "metadata": {},
   "outputs": [
    {
     "name": "stdout",
     "output_type": "stream",
     "text": [
      "----- Center and Radius -----\n",
      "[1.0785822  1.3223134  0.83548933 0.8354573 ]\n",
      "[1.07888538]\n",
      "0.2434280514717102\n",
      "----- Dirac Weights -----\n",
      "[7.64660679e-10 5.00000240e-01 2.46292419e-01 2.53707342e-01]\n"
     ]
    }
   ],
   "source": [
    "# create objective function and optimizer objects\n",
    "objective_obj = DifferentaibleMeritFunc(\n",
    "    forward_model=forward_model, \n",
    "    mu=MU, \n",
    "    data=y,\n",
    "    qoi_func=proj_func\n",
    ")\n",
    "optimizer = GdOpt(objective=objective_obj)\n",
    "\n",
    "mle_theta, M_alpha, S, center, radius_0 = optimizer.optimize_min_e_ball(\n",
    "    sigma_2=SIGMA2,\n",
    "    data=y,\n",
    "    initial_theta=THETA_INIT,\n",
    "    theta_dims=THETA_DIMS,\n",
    "    raduis_eps=EPSILON,\n",
    "    conf_level=CONF_LEV,\n",
    "    max_epoch=MAX_EPOCH,\n",
    "    lr=LR,     \n",
    ")\n",
    "\n",
    "print(\"----- Center and Radius -----\")\n",
    "print(S)\n",
    "print(center)\n",
    "print(radius_0)\n",
    "\n",
    "# perform optimization to find dirac weights\n",
    "p_opt = optimizer.weight_optimization(S=S.astype(np.float64))\n",
    "print(\"----- Dirac Weights -----\")\n",
    "print(p_opt)"
   ]
  },
  {
   "cell_type": "markdown",
   "metadata": {},
   "source": [
    "# Optimize with $y$ value as the QoI"
   ]
  },
  {
   "cell_type": "code",
   "execution_count": 14,
   "metadata": {},
   "outputs": [
    {
     "data": {
      "text/plain": [
       "(10, DeviceArray(106., dtype=float32))"
      ]
     },
     "execution_count": 14,
     "metadata": {},
     "output_type": "execute_result"
    }
   ],
   "source": [
    "x_test = 10\n",
    "y_true = model(THETA, x_test)\n",
    "(x_test, y_true)"
   ]
  },
  {
   "cell_type": "code",
   "execution_count": 15,
   "metadata": {},
   "outputs": [],
   "source": [
    "predict = lambda theta: model(theta, x_test)"
   ]
  },
  {
   "cell_type": "code",
   "execution_count": 16,
   "metadata": {},
   "outputs": [
    {
     "name": "stdout",
     "output_type": "stream",
     "text": [
      "----- Center and Radius -----\n",
      "[105.99948  108.66839  103.367935 108.660515]\n",
      "[106.01816177]\n",
      "2.650226593017578\n",
      "----- Dirac Weights -----\n",
      "[9.77836629e-09 2.57251231e-01 5.00009181e-01 2.42739578e-01]\n"
     ]
    }
   ],
   "source": [
    "# create objective function and optimizer objects\n",
    "objective_obj = DifferentaibleMeritFunc(\n",
    "    forward_model=forward_model, \n",
    "    mu=MU, \n",
    "    data=y,\n",
    "    qoi_func=predict\n",
    ")\n",
    "optimizer = GdOpt(objective=objective_obj)\n",
    "\n",
    "mle_theta, M_alpha, S, center, radius_0 = optimizer.optimize_min_e_ball(\n",
    "    sigma_2=SIGMA2,\n",
    "    data=y,\n",
    "    initial_theta=THETA_INIT,\n",
    "    theta_dims=THETA_DIMS,\n",
    "    raduis_eps=EPSILON,\n",
    "    conf_level=CONF_LEV,\n",
    "    max_epoch=MAX_EPOCH,\n",
    "    lr=LR    \n",
    ")\n",
    "\n",
    "print(\"----- Center and Radius -----\")\n",
    "print(S)\n",
    "print(center)\n",
    "print(radius_0)\n",
    "\n",
    "# perform optimization to find dirac weights\n",
    "p_opt = optimizer.weight_optimization(S=S.astype(np.float64))\n",
    "print(\"----- Dirac Weights -----\")\n",
    "print(p_opt)"
   ]
  }
 ],
 "metadata": {
  "interpreter": {
   "hash": "a7bd4dd714acd067e102f0cb1ce56c38e98d7568218a1fbb4d60dd5c71608640"
  },
  "kernelspec": {
   "display_name": "Python 3.9.6 64-bit ('venv': venv)",
   "language": "python",
   "name": "python3"
  },
  "language_info": {
   "codemirror_mode": {
    "name": "ipython",
    "version": 3
   },
   "file_extension": ".py",
   "mimetype": "text/x-python",
   "name": "python",
   "nbconvert_exporter": "python",
   "pygments_lexer": "ipython3",
   "version": "3.9.6"
  },
  "orig_nbformat": 4
 },
 "nbformat": 4,
 "nbformat_minor": 2
}
